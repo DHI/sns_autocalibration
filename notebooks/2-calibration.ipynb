{
 "cells": [
  {
   "cell_type": "markdown",
   "id": "f0ef185d",
   "metadata": {},
   "source": [
    "### Calibrate DHI Southern North Sea WaterBench\n",
    "[WaterBench SoutherNorthSea](https://github.com/DHI/WaterBench-MIKE21HD-SouthernNorthSea) \\\n",
    "The notebook showcases the automatic calibration of the Manning number by minimizing the RMSE of the water levels. "
   ]
  },
  {
   "cell_type": "markdown",
   "id": "4f74c2d8",
   "metadata": {},
   "source": [
    "##### Import necessary modules and define necessary paths"
   ]
  },
  {
   "cell_type": "code",
   "execution_count": null,
   "id": "4ef73dc6",
   "metadata": {},
   "outputs": [
    {
     "name": "stderr",
     "output_type": "stream",
     "text": [
      "c:\\Users\\FSCH\\OneDrive - DHI\\Workspace\\Code\\Python\\projects\\sns_autocalibration\\.venv\\Lib\\site-packages\\tqdm\\auto.py:21: TqdmWarning: IProgress not found. Please update jupyter and ipywidgets. See https://ipywidgets.readthedocs.io/en/stable/user_install.html\n",
      "  from .autonotebook import tqdm as notebook_tqdm\n"
     ]
    }
   ],
   "source": [
    "%load_ext autoreload\n",
    "%autoreload 2\n",
    "import optuna\n",
    "import modelskill as ms\n",
    "import mikeio\n",
    "from pathlib import Path\n",
    "import subprocess\n",
    "import numpy as np\n",
    "from helpers import run_simulation, read_num_timesteps, Collector, find_zones, suggest_new_manning, create_new_manning_file, create_new_simfile\n",
    "\n",
    "SIMFILE = Path(r\"..\\data\\model\\SNS_Autocal.m21fm\")\n",
    "MANNING_FILE = Path(r\"..\\data\\input\\ManningM.dfsu\")\n",
    "BASE_SIM_PATH = Path(r\"..\\data\\model\\SNS_Autocal.m21fm - Result Files\")\n",
    "BASE_OBS_PATH = Path(r\"..\\data\\observations\")"
   ]
  },
  {
   "cell_type": "markdown",
   "id": "3ae8b61e",
   "metadata": {},
   "source": [
    "##### Define MIKE Engine path. \n",
    "Should be adatped based on the location of the MIKE Engine."
   ]
  },
  {
   "cell_type": "code",
   "execution_count": 2,
   "id": "29e035b2",
   "metadata": {},
   "outputs": [],
   "source": [
    "M21_ENGINE = Path(r\"C:\\Program Files (x86)\\DHI\\MIKE Zero\\2024\\bin\\x64\\FemEngineHD.exe\")"
   ]
  },
  {
   "cell_type": "markdown",
   "id": "08a3cd3f",
   "metadata": {},
   "source": [
    "##### Create study and Database\n",
    "- `direction`: Defines if the objective function is minimized or maximized. In this case it will be minimized as the objective function will be the RMSE of the water level.\n",
    "- `sampler`: The sampling algorithm that will be used to optimize the objective function. In this case the Gaussian process sampler is used to suggest new parameter values as it has been shown to be effective for this model (see [link to paper](https://2025.iahr.org/Home/Submissions)).\n",
    "- `study_name`: The name of the study\n",
    "- `storage`: The database is stored in the current directory"
   ]
  },
  {
   "cell_type": "code",
   "execution_count": null,
   "id": "fd3a93a6",
   "metadata": {},
   "outputs": [
    {
     "name": "stderr",
     "output_type": "stream",
     "text": [
      "C:\\Users\\FSCH\\AppData\\Local\\Temp\\ipykernel_25192\\408057645.py:6: ExperimentalWarning: GPSampler is experimental (supported from v3.6.0). The interface can change in the future.\n",
      "  sampler=optuna.samplers.GPSampler(seed=0),\n",
      "[I 2025-07-01 13:13:48,504] A new study created in RDB with name: SNS-Autocalibration_v2\n"
     ]
    }
   ],
   "source": [
    "study_name = \"SNS-Autocalibration\"\n",
    "storage = f\"sqlite:///{study_name}.db\"\n",
    "\n",
    "study = optuna.create_study(\n",
    "    direction=\"minimize\",\n",
    "    sampler=optuna.samplers.GPSampler(seed=0),\n",
    "    study_name=study_name,\n",
    "    storage = storage,\n",
    "    load_if_exists=False,\n",
    ")"
   ]
  },
  {
   "cell_type": "markdown",
   "id": "c13fc807",
   "metadata": {},
   "source": [
    "##### Define the paths of the satellite observation files. \n",
    "Those are satellite altimetry tracks that have been converted to .dfs0 files with x,y and z columns and a time dimension"
   ]
  },
  {
   "cell_type": "code",
   "execution_count": 4,
   "id": "80a43712",
   "metadata": {},
   "outputs": [],
   "source": [
    "observations = []\n",
    "observations.append(BASE_OBS_PATH / \"Altimetry_wl_3a.dfs0\")\n",
    "observations.append(BASE_OBS_PATH / \"Altimetry_wl_3b.dfs0\")\n",
    "observations.append(BASE_OBS_PATH / \"Altimetry_wl_6a.dfs0\")"
   ]
  },
  {
   "cell_type": "markdown",
   "id": "405b126c",
   "metadata": {},
   "source": [
    "##### Define collector \n",
    "It stores information about the current simulation file and the manning file. The Collector gets updated once a new simulation is run."
   ]
  },
  {
   "cell_type": "code",
   "execution_count": 5,
   "id": "a6d736f8",
   "metadata": {},
   "outputs": [],
   "source": [
    "collector = Collector(simfile = SIMFILE, \n",
    "    manning_file = MANNING_FILE, \n",
    "    zones = find_zones(MANNING_FILE))"
   ]
  },
  {
   "cell_type": "markdown",
   "id": "7aa2868c",
   "metadata": {},
   "source": [
    "##### Define trial\n",
    "Everything that happens within a trial is defined in the \"objective\" function below. It consists of the following steps:\n",
    "- Suggest new manning values\n",
    "- Create new manning file with the suggested manning values\n",
    "- Create new simulation file referencing the new manning file\n",
    "- Run the simulation\n",
    "- Calculate error of each satellite track with modelskill\n",
    "- Aggregate errors"
   ]
  },
  {
   "cell_type": "code",
   "execution_count": 6,
   "id": "f5260c62",
   "metadata": {},
   "outputs": [],
   "source": [
    "def objective(trial: optuna.Trial, collector: Collector):\n",
    "\n",
    "\n",
    "    new_manning_values = suggest_new_manning(trial = trial, \n",
    "                                            zones = collector.zones)\n",
    "    \n",
    "\n",
    "    new_manning_file = create_new_manning_file(trial_no = trial.number,\n",
    "                                                manning_file = collector.manning_file, \n",
    "                                                zones = collector.zones,\n",
    "                                                new_values = new_manning_values)\n",
    "\n",
    "    new_simfile = create_new_simfile(trial_no = trial.number, \n",
    "                                    simfile = collector.simfile, \n",
    "                                    manning_file = new_manning_file)  \n",
    "\n",
    "    results_file = Path(Path(f\"{Path(new_simfile)} - Result Files\") / \"Area.dfsu\")\n",
    "\n",
    "\n",
    "    command = f'\"{M21_ENGINE}\" \"{new_simfile}\" -mpi 12 -x'\n",
    "    run_simulation(command = command, timesteps = read_num_timesteps(new_simfile))\n",
    "\n",
    "    ## Update collector \n",
    "\n",
    "    collector.manning_file = new_manning_file\n",
    "    collector.simfile = new_simfile\n",
    "\n",
    "    ## Calculate error of each satellite track with modelskill (RMSE)\n",
    "\n",
    "    cc = None\n",
    "    for observation in observations:\n",
    "        obs = ms.TrackObservation(data=mikeio.read(observation, item=[0,1,2]), name=observation.stem)\n",
    "        sim = ms.model_result(data=mikeio.read(results_file, items=0), name=observation.name)\n",
    "        matched = ms.match(obs, sim)\n",
    "        cc = matched if cc is None else cc + matched\n",
    "    \n",
    "    individual_errors = cc.skill().reset_index()[\"rmse\"]\n",
    "    \n",
    "    ## Aggregate errors (mean)\n",
    "\n",
    "    aggregated_error = np.mean(individual_errors)\n",
    "\n",
    "    return aggregated_error"
   ]
  },
  {
   "cell_type": "markdown",
   "id": "9a001e58",
   "metadata": {},
   "source": [
    "##### Optimize "
   ]
  },
  {
   "cell_type": "code",
   "execution_count": null,
   "id": "396fa978",
   "metadata": {},
   "outputs": [
    {
     "name": "stderr",
     "output_type": "stream",
     "text": [
      "Processing:   0%|          | 0/500 [00:43<?, ?step/s]\n",
      "c:\\Users\\FSCH\\OneDrive - DHI\\Workspace\\Code\\Python\\projects\\sns_autocalibration\\.venv\\Lib\\site-packages\\modelskill\\comparison\\_utils.py:68: FutureWarning: DataFrameGroupBy.apply operated on the grouping columns. This behavior is deprecated, and in a future version of pandas the grouping columns will be excluded from the operation. Either pass `include_groups=False` to exclude the groupings or explicitly select the grouping columns after groupby to silence this warning.\n",
      "  res = df.groupby(by=by, observed=False, sort=False).apply(calc_metrics)\n",
      "[I 2025-07-01 13:14:34,344] Trial 0 finished with value: 0.23672998888737848 and parameters: {'Manning zone 0': 44.510999999999996, 'Manning zone 1': 58.001, 'Manning zone 2': 48.891, 'Manning zone 3': 44.190999999999995, 'Manning zone 4': 34.361, 'Manning zone 5': 52.381, 'Manning zone 6': 35.491}. Best is trial 0 with value: 0.23672998888737848.\n",
      "Processing:   0%|          | 0/500 [00:25<?, ?step/s]\n",
      "c:\\Users\\FSCH\\OneDrive - DHI\\Workspace\\Code\\Python\\projects\\sns_autocalibration\\.venv\\Lib\\site-packages\\modelskill\\comparison\\_utils.py:68: FutureWarning: DataFrameGroupBy.apply operated on the grouping columns. This behavior is deprecated, and in a future version of pandas the grouping columns will be excluded from the operation. Either pass `include_groups=False` to exclude the groupings or explicitly select the grouping columns after groupby to silence this warning.\n",
      "  res = df.groupby(by=by, observed=False, sort=False).apply(calc_metrics)\n",
      "[I 2025-07-01 13:15:00,977] Trial 1 finished with value: 0.21386560543494368 and parameters: {'Manning zone 0': 72.331, 'Manning zone 1': 78.161, 'Manning zone 2': 31.101000000000003, 'Manning zone 3': 64.21100000000001, 'Manning zone 4': 42.891, 'Manning zone 5': 46.071, 'Manning zone 6': 75.07100000000001}. Best is trial 1 with value: 0.21386560543494368.\n",
      "Processing:   0%|          | 0/500 [00:25<?, ?step/s]\n",
      "c:\\Users\\FSCH\\OneDrive - DHI\\Workspace\\Code\\Python\\projects\\sns_autocalibration\\.venv\\Lib\\site-packages\\modelskill\\comparison\\_utils.py:68: FutureWarning: DataFrameGroupBy.apply operated on the grouping columns. This behavior is deprecated, and in a future version of pandas the grouping columns will be excluded from the operation. Either pass `include_groups=False` to exclude the groupings or explicitly select the grouping columns after groupby to silence this warning.\n",
      "  res = df.groupby(by=by, observed=False, sort=False).apply(calc_metrics)\n",
      "[I 2025-07-01 13:15:27,065] Trial 2 finished with value: 0.4522603088974106 and parameters: {'Manning zone 0': 5.761, 'Manning zone 1': 7.061000000000001, 'Manning zone 2': 1.631, 'Manning zone 3': 67.531, 'Manning zone 4': 63.111, 'Manning zone 5': 70.561, 'Manning zone 6': 79.37100000000001}. Best is trial 1 with value: 0.21386560543494368.\n",
      "Processing:   0%|          | 0/500 [00:25<?, ?step/s]\n",
      "c:\\Users\\FSCH\\OneDrive - DHI\\Workspace\\Code\\Python\\projects\\sns_autocalibration\\.venv\\Lib\\site-packages\\modelskill\\comparison\\_utils.py:68: FutureWarning: DataFrameGroupBy.apply operated on the grouping columns. This behavior is deprecated, and in a future version of pandas the grouping columns will be excluded from the operation. Either pass `include_groups=False` to exclude the groupings or explicitly select the grouping columns after groupby to silence this warning.\n",
      "  res = df.groupby(by=by, observed=False, sort=False).apply(calc_metrics)\n",
      "[I 2025-07-01 13:15:53,612] Trial 3 finished with value: 0.39796530531901947 and parameters: {'Manning zone 0': 64.811, 'Manning zone 1': 37.431, 'Manning zone 2': 63.301, 'Manning zone 3': 9.591, 'Manning zone 4': 51.900999999999996, 'Manning zone 5': 11.621, 'Manning zone 6': 76.62100000000001}. Best is trial 1 with value: 0.21386560543494368.\n",
      "Processing:   0%|          | 0/500 [00:24<?, ?step/s]\n",
      "c:\\Users\\FSCH\\OneDrive - DHI\\Workspace\\Code\\Python\\projects\\sns_autocalibration\\.venv\\Lib\\site-packages\\modelskill\\comparison\\_utils.py:68: FutureWarning: DataFrameGroupBy.apply operated on the grouping columns. This behavior is deprecated, and in a future version of pandas the grouping columns will be excluded from the operation. Either pass `include_groups=False` to exclude the groupings or explicitly select the grouping columns after groupby to silence this warning.\n",
      "  res = df.groupby(by=by, observed=False, sort=False).apply(calc_metrics)\n",
      "[I 2025-07-01 13:16:19,178] Trial 4 finished with value: 0.5912566820717471 and parameters: {'Manning zone 0': 42.321, 'Manning zone 1': 33.631, 'Manning zone 2': 21.451, 'Manning zone 3': 62.791, 'Manning zone 4': 36.991, 'Manning zone 5': 46.101, 'Manning zone 6': 1.521}. Best is trial 1 with value: 0.21386560543494368.\n",
      "Processing:   0%|          | 0/500 [00:26<?, ?step/s]\n",
      "c:\\Users\\FSCH\\OneDrive - DHI\\Workspace\\Code\\Python\\projects\\sns_autocalibration\\.venv\\Lib\\site-packages\\modelskill\\comparison\\_utils.py:68: FutureWarning: DataFrameGroupBy.apply operated on the grouping columns. This behavior is deprecated, and in a future version of pandas the grouping columns will be excluded from the operation. Either pass `include_groups=False` to exclude the groupings or explicitly select the grouping columns after groupby to silence this warning.\n",
      "  res = df.groupby(by=by, observed=False, sort=False).apply(calc_metrics)\n",
      "[I 2025-07-01 13:16:46,912] Trial 5 finished with value: 0.2578269855247084 and parameters: {'Manning zone 0': 50.091, 'Manning zone 1': 49.641, 'Manning zone 2': 50.031, 'Manning zone 3': 76.54100000000001, 'Manning zone 4': 55.301, 'Manning zone 5': 29.151000000000003, 'Manning zone 6': 35.440999999999995}. Best is trial 1 with value: 0.21386560543494368.\n",
      "Processing:   0%|          | 0/500 [00:24<?, ?step/s]\n",
      "c:\\Users\\FSCH\\OneDrive - DHI\\Workspace\\Code\\Python\\projects\\sns_autocalibration\\.venv\\Lib\\site-packages\\modelskill\\comparison\\_utils.py:68: FutureWarning: DataFrameGroupBy.apply operated on the grouping columns. This behavior is deprecated, and in a future version of pandas the grouping columns will be excluded from the operation. Either pass `include_groups=False` to exclude the groupings or explicitly select the grouping columns after groupby to silence this warning.\n",
      "  res = df.groupby(by=by, observed=False, sort=False).apply(calc_metrics)\n",
      "[I 2025-07-01 13:17:12,478] Trial 6 finished with value: 0.4478950838628051 and parameters: {'Manning zone 0': 56.580999999999996, 'Manning zone 1': 4.881, 'Manning zone 2': 54.080999999999996, 'Manning zone 3': 54.391, 'Manning zone 4': 17.061, 'Manning zone 5': 10.451, 'Manning zone 6': 25.581000000000003}. Best is trial 1 with value: 0.21386560543494368.\n",
      "Processing:   0%|          | 0/500 [00:24<?, ?step/s]\n",
      "c:\\Users\\FSCH\\OneDrive - DHI\\Workspace\\Code\\Python\\projects\\sns_autocalibration\\.venv\\Lib\\site-packages\\modelskill\\comparison\\_utils.py:68: FutureWarning: DataFrameGroupBy.apply operated on the grouping columns. This behavior is deprecated, and in a future version of pandas the grouping columns will be excluded from the operation. Either pass `include_groups=False` to exclude the groupings or explicitly select the grouping columns after groupby to silence this warning.\n",
      "  res = df.groupby(by=by, observed=False, sort=False).apply(calc_metrics)\n",
      "[I 2025-07-01 13:17:37,869] Trial 7 finished with value: 0.4691444538115139 and parameters: {'Manning zone 0': 29.501, 'Manning zone 1': 46.241, 'Manning zone 2': 35.571, 'Manning zone 3': 80.161, 'Manning zone 4': 8.270999999999999, 'Manning zone 5': 16.941000000000003, 'Manning zone 6': 13.081}. Best is trial 1 with value: 0.21386560543494368.\n",
      "Processing:   0%|          | 0/500 [00:24<?, ?step/s]\n",
      "c:\\Users\\FSCH\\OneDrive - DHI\\Workspace\\Code\\Python\\projects\\sns_autocalibration\\.venv\\Lib\\site-packages\\modelskill\\comparison\\_utils.py:68: FutureWarning: DataFrameGroupBy.apply operated on the grouping columns. This behavior is deprecated, and in a future version of pandas the grouping columns will be excluded from the operation. Either pass `include_groups=False` to exclude the groupings or explicitly select the grouping columns after groupby to silence this warning.\n",
      "  res = df.groupby(by=by, observed=False, sort=False).apply(calc_metrics)\n",
      "[I 2025-07-01 13:18:03,781] Trial 8 finished with value: 0.44752461462170584 and parameters: {'Manning zone 0': 52.971, 'Manning zone 1': 20.541, 'Manning zone 2': 37.821, 'Manning zone 3': 19.821, 'Manning zone 4': 12.891, 'Manning zone 5': 8.951, 'Manning zone 6': 53.231}. Best is trial 1 with value: 0.21386560543494368.\n",
      "Processing:   0%|          | 0/500 [00:25<?, ?step/s]\n",
      "c:\\Users\\FSCH\\OneDrive - DHI\\Workspace\\Code\\Python\\projects\\sns_autocalibration\\.venv\\Lib\\site-packages\\modelskill\\comparison\\_utils.py:68: FutureWarning: DataFrameGroupBy.apply operated on the grouping columns. This behavior is deprecated, and in a future version of pandas the grouping columns will be excluded from the operation. Either pass `include_groups=False` to exclude the groupings or explicitly select the grouping columns after groupby to silence this warning.\n",
      "  res = df.groupby(by=by, observed=False, sort=False).apply(calc_metrics)\n",
      "[I 2025-07-01 13:18:29,992] Trial 9 finished with value: 0.5314539722555053 and parameters: {'Manning zone 0': 11.201, 'Manning zone 1': 15.940999999999999, 'Manning zone 2': 29.901000000000003, 'Manning zone 3': 66.59100000000001, 'Manning zone 4': 7.871, 'Manning zone 5': 67.96100000000001, 'Manning zone 6': 7.791}. Best is trial 1 with value: 0.21386560543494368.\n"
     ]
    }
   ],
   "source": [
    "study.optimize(lambda trial: objective(trial, collector), n_trials=100)"
   ]
  }
 ],
 "metadata": {
  "kernelspec": {
   "display_name": "sns_autocalibration",
   "language": "python",
   "name": "python3"
  },
  "language_info": {
   "codemirror_mode": {
    "name": "ipython",
    "version": 3
   },
   "file_extension": ".py",
   "mimetype": "text/x-python",
   "name": "python",
   "nbconvert_exporter": "python",
   "pygments_lexer": "ipython3",
   "version": "3.11.11"
  }
 },
 "nbformat": 4,
 "nbformat_minor": 5
}
