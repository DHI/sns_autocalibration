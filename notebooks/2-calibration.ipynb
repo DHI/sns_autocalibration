{
 "cells": [
  {
   "cell_type": "markdown",
   "id": "f0ef185d",
   "metadata": {},
   "source": [
    "### Calibrate DHI Southern North Sea WaterBench\n",
    "[WaterBench SoutherNorthSea](https://github.com/DHI/WaterBench-MIKE21HD-SouthernNorthSea) \\\n",
    "The notebook showcases the automatic calibration of the Manning number by minimizing the RMSE of the water levels. "
   ]
  },
  {
   "cell_type": "markdown",
   "id": "4f74c2d8",
   "metadata": {},
   "source": [
    "##### Import necessary modules and define necessary paths"
   ]
  },
  {
   "cell_type": "code",
   "execution_count": 1,
   "id": "4ef73dc6",
   "metadata": {},
   "outputs": [
    {
     "name": "stderr",
     "output_type": "stream",
     "text": [
      "c:\\Users\\FSCH\\OneDrive - DHI\\Workspace\\Code\\Python\\projects\\sns_autocalibration\\.venv\\Lib\\site-packages\\tqdm\\auto.py:21: TqdmWarning: IProgress not found. Please update jupyter and ipywidgets. See https://ipywidgets.readthedocs.io/en/stable/user_install.html\n",
      "  from .autonotebook import tqdm as notebook_tqdm\n"
     ]
    }
   ],
   "source": [
    "import optuna\n",
    "import modelskill as ms\n",
    "import mikeio\n",
    "from pathlib import Path\n",
    "import subprocess\n",
    "import numpy as np\n",
    "from helpers import run_simulation, read_num_timesteps, Collector, find_zones, suggest_new_manning, create_new_manning_file, create_new_simfile\n",
    "\n",
    "SIMFILE = Path(r\"..\\data\\model\\SNS_Autocal.m21fm\")\n",
    "MANNING_FILE = Path(r\"..\\data\\input\\ManningM.dfsu\")\n",
    "BASE_SIM_PATH = Path(r\"..\\data\\model\\SNS_Autocal.m21fm - Result Files\")\n",
    "BASE_OBS_PATH = Path(r\"..\\data\\observations\")"
   ]
  },
  {
   "cell_type": "markdown",
   "id": "3ae8b61e",
   "metadata": {},
   "source": [
    "##### Define MIKE Engine path. \n",
    "Should be adatped based on the location of the MIKE Engine."
   ]
  },
  {
   "cell_type": "code",
   "execution_count": 2,
   "id": "29e035b2",
   "metadata": {},
   "outputs": [],
   "source": [
    "M21_ENGINE = Path(r\"C:\\Program Files (x86)\\DHI\\MIKE Zero\\2024\\bin\\x64\\FemEngineHD.exe\")"
   ]
  },
  {
   "cell_type": "markdown",
   "id": "08a3cd3f",
   "metadata": {},
   "source": [
    "##### Create study and Database\n",
    "- `direction`: Defines if the objective function is minimized or maximized. In this case it will be minimized as the objective function will be the RMSE of the water level.\n",
    "- `sampler`: The sampling algorithm that will be used to optimize the objective function. In this case the Gaussian process sampler is used to suggest new parameter values as it has been shown to be effective for this model (see [link to paper](https://2025.iahr.org/Home/Submissions)).\n",
    "- `study_name`: The name of the study\n",
    "- `storage`: The database is stored in the current directory"
   ]
  },
  {
   "cell_type": "code",
   "execution_count": 3,
   "id": "fd3a93a6",
   "metadata": {},
   "outputs": [
    {
     "name": "stderr",
     "output_type": "stream",
     "text": [
      "C:\\Users\\FSCH\\AppData\\Local\\Temp\\ipykernel_38868\\1831883161.py:6: ExperimentalWarning: GPSampler is experimental (supported from v3.6.0). The interface can change in the future.\n",
      "  sampler=optuna.samplers.GPSampler(seed=0),\n",
      "[I 2025-07-02 11:51:45,396] A new study created in RDB with name: SNS-Autocalibration_example\n"
     ]
    }
   ],
   "source": [
    "study_name = \"SNS-Autocalibration_example\"\n",
    "storage = f\"sqlite:///{study_name}.db\"\n",
    "\n",
    "study = optuna.create_study(\n",
    "    direction=\"minimize\",\n",
    "    sampler=optuna.samplers.GPSampler(seed=0),\n",
    "    study_name=study_name,\n",
    "    storage = storage,\n",
    "    load_if_exists=False,\n",
    ")"
   ]
  },
  {
   "cell_type": "markdown",
   "id": "c13fc807",
   "metadata": {},
   "source": [
    "##### Define the paths of the satellite observation files. \n",
    "Those are satellite altimetry tracks that have been converted to .dfs0 files with x,y and z columns and a time dimension"
   ]
  },
  {
   "cell_type": "code",
   "execution_count": 4,
   "id": "80a43712",
   "metadata": {},
   "outputs": [],
   "source": [
    "observations = []\n",
    "observations.append(BASE_OBS_PATH / \"Altimetry_wl_3a.dfs0\")\n",
    "observations.append(BASE_OBS_PATH / \"Altimetry_wl_3b.dfs0\")\n",
    "observations.append(BASE_OBS_PATH / \"Altimetry_wl_6a.dfs0\")"
   ]
  },
  {
   "cell_type": "markdown",
   "id": "405b126c",
   "metadata": {},
   "source": [
    "##### Define collector \n",
    "It stores information about the current simulation file and the manning file. The Collector gets updated once a new simulation is run."
   ]
  },
  {
   "cell_type": "code",
   "execution_count": 5,
   "id": "a6d736f8",
   "metadata": {},
   "outputs": [],
   "source": [
    "collector = Collector(simfile = SIMFILE, \n",
    "    manning_file = MANNING_FILE, \n",
    "    zones = find_zones(MANNING_FILE))"
   ]
  },
  {
   "cell_type": "markdown",
   "id": "7aa2868c",
   "metadata": {},
   "source": [
    "##### Define trial\n",
    "Everything that happens within a trial is defined in the \"objective\" function below. It consists of the following steps:\n",
    "- Suggest new manning values\n",
    "- Create new manning file with the suggested manning values\n",
    "- Create new simulation file referencing the new manning file\n",
    "- Run the simulation\n",
    "- Calculate error of each satellite track with modelskill\n",
    "- Aggregate errors"
   ]
  },
  {
   "cell_type": "code",
   "execution_count": 6,
   "id": "f5260c62",
   "metadata": {},
   "outputs": [],
   "source": [
    "def objective(trial: optuna.Trial, collector: Collector):\n",
    "\n",
    "\n",
    "    new_manning_values = suggest_new_manning(trial = trial, \n",
    "                                            zones = collector.zones)\n",
    "    \n",
    "\n",
    "    new_manning_file = create_new_manning_file(trial_no = trial.number,\n",
    "                                                manning_file = collector.manning_file, \n",
    "                                                zones = collector.zones,\n",
    "                                                new_values = new_manning_values)\n",
    "\n",
    "    new_simfile = create_new_simfile(trial_no = trial.number, \n",
    "                                    simfile = collector.simfile, \n",
    "                                    manning_file = new_manning_file)  \n",
    "\n",
    "    results_file = Path(Path(f\"{Path(new_simfile)} - Result Files\") / \"Area.dfsu\")\n",
    "\n",
    "\n",
    "    command = f'\"{M21_ENGINE}\" \"{new_simfile}\" -mpi 12 -x'\n",
    "    run_simulation(command = command, timesteps = read_num_timesteps(new_simfile))\n",
    "\n",
    "    ## Update collector \n",
    "\n",
    "    collector.manning_file = new_manning_file\n",
    "    collector.simfile = new_simfile\n",
    "\n",
    "    ## Calculate error of each satellite track with modelskill (RMSE)\n",
    "\n",
    "    cc = None\n",
    "    for observation in observations:\n",
    "        obs = ms.TrackObservation(data=mikeio.read(observation, item=[0,1,2]), name=observation.stem)\n",
    "        sim = ms.model_result(data=mikeio.read(results_file, items=0), name=observation.name)\n",
    "        matched = ms.match(obs, sim)\n",
    "        cc = matched if cc is None else cc + matched\n",
    "    \n",
    "    individual_errors = cc.skill().reset_index()[\"rmse\"]\n",
    "    \n",
    "    ## Aggregate errors (mean)\n",
    "\n",
    "    aggregated_error = np.mean(individual_errors)\n",
    "\n",
    "    return aggregated_error"
   ]
  },
  {
   "cell_type": "markdown",
   "id": "9a001e58",
   "metadata": {},
   "source": [
    "##### Optimize "
   ]
  },
  {
   "cell_type": "code",
   "execution_count": null,
   "id": "396fa978",
   "metadata": {},
   "outputs": [
    {
     "name": "stderr",
     "output_type": "stream",
     "text": [
      "Processing:   0%|          | 0/500 [00:00<?, ?step/s]"
     ]
    }
   ],
   "source": [
    "study.optimize(lambda trial: objective(trial, collector), n_trials=10)"
   ]
  }
 ],
 "metadata": {
  "kernelspec": {
   "display_name": "sns_autocalibration",
   "language": "python",
   "name": "python3"
  },
  "language_info": {
   "codemirror_mode": {
    "name": "ipython",
    "version": 3
   },
   "file_extension": ".py",
   "mimetype": "text/x-python",
   "name": "python",
   "nbconvert_exporter": "python",
   "pygments_lexer": "ipython3",
   "version": "3.11.11"
  }
 },
 "nbformat": 4,
 "nbformat_minor": 5
}
